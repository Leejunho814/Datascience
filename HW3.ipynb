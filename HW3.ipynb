{
 "cells": [
  {
   "cell_type": "code",
   "execution_count": 10,
   "id": "12d18f41-f9f3-413e-82e7-94503dbba5dc",
   "metadata": {},
   "outputs": [],
   "source": [
    "hairstyles = [\"bouffant\", \"pixie\", \"dreadlocks\",\"crew\", \"bowl\", \"bob\", \"mohawk\", \"flattop\"]\n",
    "prices = [30, 25, 40, 20, 20, 35, 50, 35]\n",
    "last_week = [2, 3, 5, 8, 4, 4, 6, 2]"
   ]
  },
  {
   "cell_type": "code",
   "execution_count": 11,
   "id": "d350a026-2402-4a33-a7f2-e8c175901691",
   "metadata": {},
   "outputs": [],
   "source": [
    "total_price = 0 "
   ]
  },
  {
   "cell_type": "code",
   "execution_count": 12,
   "id": "c9ae8292-ae32-483f-975b-db5e5c3a5771",
   "metadata": {},
   "outputs": [
    {
     "name": "stdout",
     "output_type": "stream",
     "text": [
      "Average price is 31.875\n"
     ]
    }
   ],
   "source": [
    "for i in prices:\n",
    "    total_price += i\n",
    "average_price = total_price / len(prices)\n",
    "print(\"Average price is \" + str(average_price))"
   ]
  },
  {
   "cell_type": "code",
   "execution_count": 13,
   "id": "4beecd29-8fcc-4121-b090-459f531b2348",
   "metadata": {},
   "outputs": [
    {
     "name": "stdout",
     "output_type": "stream",
     "text": [
      "[25, 20, 35, 15, 15, 30, 45, 30]\n"
     ]
    }
   ],
   "source": [
    "new_prices = [i - 5 for i in prices]\n",
    "print(new_prices)"
   ]
  },
  {
   "cell_type": "code",
   "execution_count": 14,
   "id": "5dcfe1e2-8cde-47b8-9da2-d486c62a7a37",
   "metadata": {},
   "outputs": [],
   "source": [
    "total_revenue = 0"
   ]
  },
  {
   "cell_type": "code",
   "execution_count": 15,
   "id": "6d594220-2cb0-446e-8b11-b8ba51336cf2",
   "metadata": {},
   "outputs": [
    {
     "name": "stdout",
     "output_type": "stream",
     "text": [
      "Average daily revenue is 155.0\n"
     ]
    }
   ],
   "source": [
    "for i in range(len(hairstyles)):\n",
    "    total_revenue += prices[i] * last_week[i]\n",
    "    \n",
    "average_daily_revenue = total_revenue / 7\n",
    "print(\"Average daily revenue is \" + str(average_daily_revenue))"
   ]
  },
  {
   "cell_type": "code",
   "execution_count": 17,
   "id": "07b6e386-4e41-4684-96e0-0013d72f4849",
   "metadata": {},
   "outputs": [
    {
     "name": "stdout",
     "output_type": "stream",
     "text": [
      "['bouffant', 'pixie', 'crew', 'bowl']\n"
     ]
    }
   ],
   "source": [
    "cuts_under_30 = [hairstyles[i] for i in range(len(new_prices)) if new_prices[i] < 30]\n",
    "print(cuts_under_30)"
   ]
  }
 ],
 "metadata": {
  "kernelspec": {
   "display_name": "Python 3 (ipykernel)",
   "language": "python",
   "name": "python3"
  },
  "language_info": {
   "codemirror_mode": {
    "name": "ipython",
    "version": 3
   },
   "file_extension": ".py",
   "mimetype": "text/x-python",
   "name": "python",
   "nbconvert_exporter": "python",
   "pygments_lexer": "ipython3",
   "version": "3.9.12"
  }
 },
 "nbformat": 4,
 "nbformat_minor": 5
}
